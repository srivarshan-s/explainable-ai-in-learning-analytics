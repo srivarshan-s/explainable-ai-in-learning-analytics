{
 "cells": [
  {
   "cell_type": "markdown",
   "id": "cd3ee993",
   "metadata": {},
   "source": [
    "# **MODEL GENERALISABILITY**"
   ]
  },
  {
   "cell_type": "markdown",
   "id": "de4d84b9",
   "metadata": {},
   "source": [
    "## **Import Libraries**"
   ]
  },
  {
   "cell_type": "code",
   "execution_count": 1,
   "id": "50129e95",
   "metadata": {},
   "outputs": [],
   "source": [
    "import re\n",
    "import pickle\n",
    "import pandas as pd\n",
    "import numpy as np\n",
    "from nltk.corpus import stopwords\n",
    "from nltk.stem import SnowballStemmer\n",
    "from tqdm import tqdm\n",
    "from sklearn.metrics import classification_report\n",
    "\n",
    "from model import CustomModel\n",
    "from preprocess import preprocess_pipeline, vectorizer"
   ]
  },
  {
   "cell_type": "markdown",
   "id": "8e1e726c",
   "metadata": {},
   "source": [
    "## **Load Data**"
   ]
  },
  {
   "cell_type": "code",
   "execution_count": 2,
   "id": "fa6a2853",
   "metadata": {},
   "outputs": [],
   "source": [
    "df = pd.read_csv(\"data/Arguments_6L_MT.csv\", delimiter=\",\")"
   ]
  },
  {
   "cell_type": "code",
   "execution_count": 3,
   "id": "c4f186b3",
   "metadata": {},
   "outputs": [
    {
     "data": {
      "text/html": [
       "<div>\n",
       "<style scoped>\n",
       "    .dataframe tbody tr th:only-of-type {\n",
       "        vertical-align: middle;\n",
       "    }\n",
       "\n",
       "    .dataframe tbody tr th {\n",
       "        vertical-align: top;\n",
       "    }\n",
       "\n",
       "    .dataframe thead th {\n",
       "        text-align: right;\n",
       "    }\n",
       "</style>\n",
       "<table border=\"1\" class=\"dataframe\">\n",
       "  <thead>\n",
       "    <tr style=\"text-align: right;\">\n",
       "      <th></th>\n",
       "      <th>set</th>\n",
       "      <th>argument_EN</th>\n",
       "      <th>topic_EN</th>\n",
       "      <th>quality_score_EN</th>\n",
       "      <th>stance_label_EN</th>\n",
       "      <th>stance_conf_EN</th>\n",
       "      <th>argument_ES</th>\n",
       "      <th>topic_ES</th>\n",
       "      <th>argument_FR</th>\n",
       "      <th>topic_FR</th>\n",
       "      <th>argument_IT</th>\n",
       "      <th>topic_IT</th>\n",
       "      <th>argument_DE</th>\n",
       "      <th>topic_DE</th>\n",
       "      <th>argument_NL</th>\n",
       "      <th>topic_NL</th>\n",
       "    </tr>\n",
       "  </thead>\n",
       "  <tbody>\n",
       "    <tr>\n",
       "      <th>0</th>\n",
       "      <td>train</td>\n",
       "      <td>\"marriage\" isn't keeping up with the times.  a...</td>\n",
       "      <td>We should abandon marriage</td>\n",
       "      <td>0.846165</td>\n",
       "      <td>1</td>\n",
       "      <td>1.000000</td>\n",
       "      <td>\"matrimonio\" no se mantiene con los tiempos.  ...</td>\n",
       "      <td>Deberíamos abandonar el matrimonio.</td>\n",
       "      <td>\"Mariage\" n'est pas en accord avec les temps. ...</td>\n",
       "      <td>Nous devrions abandonner le mariage</td>\n",
       "      <td>Il \"matrimonio\" non si tiene con i tempi.  abb...</td>\n",
       "      <td>Dovremmo abbandonare il matrimonio</td>\n",
       "      <td>\"Ehe\" hält sich nicht mit den Zeiten auf.  das...</td>\n",
       "      <td>Wir sollten die Ehe aufgeben.</td>\n",
       "      <td>'huwelijk' houdt de tijden niet in.  het oude ...</td>\n",
       "      <td>We moeten het huwelijk verlaten.</td>\n",
       "    </tr>\n",
       "    <tr>\n",
       "      <th>1</th>\n",
       "      <td>train</td>\n",
       "      <td>.a multi-party system would be too confusing a...</td>\n",
       "      <td>We should adopt a multi-party system</td>\n",
       "      <td>0.891271</td>\n",
       "      <td>-1</td>\n",
       "      <td>1.000000</td>\n",
       "      <td>.un sistema multipartidista sería demasiado co...</td>\n",
       "      <td>Debemos adoptar un sistema pluripartidista</td>\n",
       "      <td>Un système multipartite serait trop déroutant ...</td>\n",
       "      <td>Nous devrions adopter un système multipartite</td>\n",
       "      <td>.un sistema multi - partitico sarebbe troppo c...</td>\n",
       "      <td>Dovremmo adottare un sistema multi - partitico</td>\n",
       "      <td>.Ein Mehrparteiensystem wäre zu verwirrend und...</td>\n",
       "      <td>Wir sollten ein Mehrparteiensystem einführen,</td>\n",
       "      <td>Een meerpartijensysteem zou te verwarrend zijn...</td>\n",
       "      <td>We moeten een meerpartijenstelsel aannemen</td>\n",
       "    </tr>\n",
       "    <tr>\n",
       "      <th>2</th>\n",
       "      <td>train</td>\n",
       "      <td>`people reach their limit when it comes to the...</td>\n",
       "      <td>Assisted suicide should be a criminal offence</td>\n",
       "      <td>0.730395</td>\n",
       "      <td>-1</td>\n",
       "      <td>1.000000</td>\n",
       "      <td>\" Las personas alcanzan su límite cuando se tr...</td>\n",
       "      <td>El suicidio asistido debe ser un delito penal</td>\n",
       "      <td>\" Les gens atteignent leur limite lorsqu'il s'...</td>\n",
       "      <td>Le suicide assisté devrait être une infraction...</td>\n",
       "      <td>§ le persone raggiungono il loro limite quando...</td>\n",
       "      <td>Il suicidio assistito dovrebbe essere un reato</td>\n",
       "      <td>\" Menschen erreichen ihre Grenze, wenn es um i...</td>\n",
       "      <td>Assistierter Suizid sollte ein Straftatbestand...</td>\n",
       "      <td>¶ mensen bereiken hun grens als het gaat om hu...</td>\n",
       "      <td>Geassisteerde zelfmoord moet een strafbaar fei...</td>\n",
       "    </tr>\n",
       "    <tr>\n",
       "      <th>3</th>\n",
       "      <td>train</td>\n",
       "      <td>100% agree, should they do that, it would be a...</td>\n",
       "      <td>We should abolish safe spaces</td>\n",
       "      <td>0.236686</td>\n",
       "      <td>1</td>\n",
       "      <td>0.805517</td>\n",
       "      <td>100% de acuerdo, si lo hacen, sería una buena ...</td>\n",
       "      <td>Deberíamos abolir los espacios seguros.</td>\n",
       "      <td>100% d'accord, s'ils le font, ce serait une bo...</td>\n",
       "      <td>Nous devrions abolir les espaces sûrs</td>\n",
       "      <td>100% d'accordo, dovrebbero farlo, sarebbe una ...</td>\n",
       "      <td>Dovremmo abolire gli spazi sicuri</td>\n",
       "      <td>100% stimmen zu, sollten sie das tun, wäre es ...</td>\n",
       "      <td>Wir sollten sichere Räume abschaffen</td>\n",
       "      <td>100% akkoord, als ze dat doen, zou het een goe...</td>\n",
       "      <td>We moeten veilige ruimtes afschaffen.</td>\n",
       "    </tr>\n",
       "    <tr>\n",
       "      <th>4</th>\n",
       "      <td>train</td>\n",
       "      <td>A ban on naturopathy creates a cohesive front ...</td>\n",
       "      <td>We should ban naturopathy</td>\n",
       "      <td>0.753805</td>\n",
       "      <td>1</td>\n",
       "      <td>1.000000</td>\n",
       "      <td>Una prohibición de la naturopathy crea un fren...</td>\n",
       "      <td>Deberíamos prohibir la naturopatía.</td>\n",
       "      <td>L'interdiction de la naturopathie crée un fron...</td>\n",
       "      <td>Nous devrions interdire la naturopathie</td>\n",
       "      <td>Un divieto di naturopatia crea un fronte coeso...</td>\n",
       "      <td>Dovremmo vietare la naturopatia</td>\n",
       "      <td>Ein Verbot der Naturheilkunde schafft eine zus...</td>\n",
       "      <td>Wir sollten Naturopathie verbieten</td>\n",
       "      <td>Een verbod op natuurgeneeskunde creëert een sa...</td>\n",
       "      <td>We moeten naturopathie verbieden.</td>\n",
       "    </tr>\n",
       "  </tbody>\n",
       "</table>\n",
       "</div>"
      ],
      "text/plain": [
       "     set                                        argument_EN  \\\n",
       "0  train  \"marriage\" isn't keeping up with the times.  a...   \n",
       "1  train  .a multi-party system would be too confusing a...   \n",
       "2  train  `people reach their limit when it comes to the...   \n",
       "3  train  100% agree, should they do that, it would be a...   \n",
       "4  train  A ban on naturopathy creates a cohesive front ...   \n",
       "\n",
       "                                        topic_EN  quality_score_EN  \\\n",
       "0                     We should abandon marriage          0.846165   \n",
       "1           We should adopt a multi-party system          0.891271   \n",
       "2  Assisted suicide should be a criminal offence          0.730395   \n",
       "3                  We should abolish safe spaces          0.236686   \n",
       "4                      We should ban naturopathy          0.753805   \n",
       "\n",
       "   stance_label_EN  stance_conf_EN  \\\n",
       "0                1        1.000000   \n",
       "1               -1        1.000000   \n",
       "2               -1        1.000000   \n",
       "3                1        0.805517   \n",
       "4                1        1.000000   \n",
       "\n",
       "                                         argument_ES  \\\n",
       "0  \"matrimonio\" no se mantiene con los tiempos.  ...   \n",
       "1  .un sistema multipartidista sería demasiado co...   \n",
       "2  \" Las personas alcanzan su límite cuando se tr...   \n",
       "3  100% de acuerdo, si lo hacen, sería una buena ...   \n",
       "4  Una prohibición de la naturopathy crea un fren...   \n",
       "\n",
       "                                        topic_ES  \\\n",
       "0            Deberíamos abandonar el matrimonio.   \n",
       "1     Debemos adoptar un sistema pluripartidista   \n",
       "2  El suicidio asistido debe ser un delito penal   \n",
       "3        Deberíamos abolir los espacios seguros.   \n",
       "4            Deberíamos prohibir la naturopatía.   \n",
       "\n",
       "                                         argument_FR  \\\n",
       "0  \"Mariage\" n'est pas en accord avec les temps. ...   \n",
       "1  Un système multipartite serait trop déroutant ...   \n",
       "2  \" Les gens atteignent leur limite lorsqu'il s'...   \n",
       "3  100% d'accord, s'ils le font, ce serait une bo...   \n",
       "4  L'interdiction de la naturopathie crée un fron...   \n",
       "\n",
       "                                            topic_FR  \\\n",
       "0                Nous devrions abandonner le mariage   \n",
       "1      Nous devrions adopter un système multipartite   \n",
       "2  Le suicide assisté devrait être une infraction...   \n",
       "3              Nous devrions abolir les espaces sûrs   \n",
       "4            Nous devrions interdire la naturopathie   \n",
       "\n",
       "                                         argument_IT  \\\n",
       "0  Il \"matrimonio\" non si tiene con i tempi.  abb...   \n",
       "1  .un sistema multi - partitico sarebbe troppo c...   \n",
       "2  § le persone raggiungono il loro limite quando...   \n",
       "3  100% d'accordo, dovrebbero farlo, sarebbe una ...   \n",
       "4  Un divieto di naturopatia crea un fronte coeso...   \n",
       "\n",
       "                                         topic_IT  \\\n",
       "0              Dovremmo abbandonare il matrimonio   \n",
       "1  Dovremmo adottare un sistema multi - partitico   \n",
       "2  Il suicidio assistito dovrebbe essere un reato   \n",
       "3               Dovremmo abolire gli spazi sicuri   \n",
       "4                 Dovremmo vietare la naturopatia   \n",
       "\n",
       "                                         argument_DE  \\\n",
       "0  \"Ehe\" hält sich nicht mit den Zeiten auf.  das...   \n",
       "1  .Ein Mehrparteiensystem wäre zu verwirrend und...   \n",
       "2  \" Menschen erreichen ihre Grenze, wenn es um i...   \n",
       "3  100% stimmen zu, sollten sie das tun, wäre es ...   \n",
       "4  Ein Verbot der Naturheilkunde schafft eine zus...   \n",
       "\n",
       "                                            topic_DE  \\\n",
       "0                      Wir sollten die Ehe aufgeben.   \n",
       "1      Wir sollten ein Mehrparteiensystem einführen,   \n",
       "2  Assistierter Suizid sollte ein Straftatbestand...   \n",
       "3               Wir sollten sichere Räume abschaffen   \n",
       "4                 Wir sollten Naturopathie verbieten   \n",
       "\n",
       "                                         argument_NL  \\\n",
       "0  'huwelijk' houdt de tijden niet in.  het oude ...   \n",
       "1  Een meerpartijensysteem zou te verwarrend zijn...   \n",
       "2  ¶ mensen bereiken hun grens als het gaat om hu...   \n",
       "3  100% akkoord, als ze dat doen, zou het een goe...   \n",
       "4  Een verbod op natuurgeneeskunde creëert een sa...   \n",
       "\n",
       "                                            topic_NL  \n",
       "0                   We moeten het huwelijk verlaten.  \n",
       "1         We moeten een meerpartijenstelsel aannemen  \n",
       "2  Geassisteerde zelfmoord moet een strafbaar fei...  \n",
       "3              We moeten veilige ruimtes afschaffen.  \n",
       "4                  We moeten naturopathie verbieden.  "
      ]
     },
     "execution_count": 3,
     "metadata": {},
     "output_type": "execute_result"
    }
   ],
   "source": [
    "df.head()"
   ]
  },
  {
   "cell_type": "markdown",
   "id": "ff02deb9-0ae7-4c1b-b319-15c485e6e8c7",
   "metadata": {},
   "source": [
    "## **Data Cleaning**"
   ]
  },
  {
   "cell_type": "code",
   "execution_count": 4,
   "id": "9e8b7a9d-2ef3-4da7-a95d-a4ffccab52d9",
   "metadata": {},
   "outputs": [],
   "source": [
    "# Extract the necessary columns\n",
    "df = df[[\"argument_EN\", \"quality_score_EN\"]]"
   ]
  },
  {
   "cell_type": "code",
   "execution_count": 5,
   "id": "833ec4b3-1b58-4a42-946d-094900452a3d",
   "metadata": {},
   "outputs": [],
   "source": [
    "def set_quality(score):\n",
    "    if score <= 0.33:\n",
    "        return \"Low\"\n",
    "    if score > 0.33 and score <= 0.66:\n",
    "        return \"Average\"\n",
    "    return \"High\""
   ]
  },
  {
   "cell_type": "code",
   "execution_count": 6,
   "id": "ac511707-7887-47f3-83a1-63c004cd5040",
   "metadata": {},
   "outputs": [],
   "source": [
    "df[\"quality\"] = df[\"quality_score_EN\"].apply(set_quality)"
   ]
  },
  {
   "cell_type": "code",
   "execution_count": 7,
   "id": "e8f77751-e1a2-4a4a-9c25-b82ed44f7c68",
   "metadata": {},
   "outputs": [
    {
     "data": {
      "text/html": [
       "<div>\n",
       "<style scoped>\n",
       "    .dataframe tbody tr th:only-of-type {\n",
       "        vertical-align: middle;\n",
       "    }\n",
       "\n",
       "    .dataframe tbody tr th {\n",
       "        vertical-align: top;\n",
       "    }\n",
       "\n",
       "    .dataframe thead th {\n",
       "        text-align: right;\n",
       "    }\n",
       "</style>\n",
       "<table border=\"1\" class=\"dataframe\">\n",
       "  <thead>\n",
       "    <tr style=\"text-align: right;\">\n",
       "      <th></th>\n",
       "      <th>argument_EN</th>\n",
       "      <th>quality_score_EN</th>\n",
       "      <th>quality</th>\n",
       "    </tr>\n",
       "  </thead>\n",
       "  <tbody>\n",
       "    <tr>\n",
       "      <th>0</th>\n",
       "      <td>\"marriage\" isn't keeping up with the times.  a...</td>\n",
       "      <td>0.846165</td>\n",
       "      <td>High</td>\n",
       "    </tr>\n",
       "    <tr>\n",
       "      <th>1</th>\n",
       "      <td>.a multi-party system would be too confusing a...</td>\n",
       "      <td>0.891271</td>\n",
       "      <td>High</td>\n",
       "    </tr>\n",
       "    <tr>\n",
       "      <th>2</th>\n",
       "      <td>`people reach their limit when it comes to the...</td>\n",
       "      <td>0.730395</td>\n",
       "      <td>High</td>\n",
       "    </tr>\n",
       "    <tr>\n",
       "      <th>3</th>\n",
       "      <td>100% agree, should they do that, it would be a...</td>\n",
       "      <td>0.236686</td>\n",
       "      <td>Low</td>\n",
       "    </tr>\n",
       "    <tr>\n",
       "      <th>4</th>\n",
       "      <td>A ban on naturopathy creates a cohesive front ...</td>\n",
       "      <td>0.753805</td>\n",
       "      <td>High</td>\n",
       "    </tr>\n",
       "  </tbody>\n",
       "</table>\n",
       "</div>"
      ],
      "text/plain": [
       "                                         argument_EN  quality_score_EN quality\n",
       "0  \"marriage\" isn't keeping up with the times.  a...          0.846165    High\n",
       "1  .a multi-party system would be too confusing a...          0.891271    High\n",
       "2  `people reach their limit when it comes to the...          0.730395    High\n",
       "3  100% agree, should they do that, it would be a...          0.236686     Low\n",
       "4  A ban on naturopathy creates a cohesive front ...          0.753805    High"
      ]
     },
     "execution_count": 7,
     "metadata": {},
     "output_type": "execute_result"
    }
   ],
   "source": [
    "df.head()"
   ]
  },
  {
   "cell_type": "markdown",
   "id": "9ab82ef0-e0f3-481f-bfd7-0a0a1180c17f",
   "metadata": {},
   "source": [
    "## **Data Preprocessing**"
   ]
  },
  {
   "cell_type": "code",
   "execution_count": 8,
   "id": "6773a649-aff9-4476-b66c-9b3406d8aac3",
   "metadata": {},
   "outputs": [],
   "source": [
    "stop_words = set(stopwords.words(\"english\"))\n",
    "english_stopwords = stopwords.words(\"english\")\n",
    "english_stemmer = SnowballStemmer(\"english\")"
   ]
  },
  {
   "cell_type": "code",
   "execution_count": 9,
   "id": "4e30c6e1-2646-4ada-b2de-4b4e01f36b0a",
   "metadata": {},
   "outputs": [],
   "source": [
    "def clean_text(text):\n",
    "    text = text.replace('', '') # Remove \n",
    "    text = re.sub(r'[^\\w]', ' ', text) # Remove symbols\n",
    "    text = re.sub(r'[ ]{2,}', ' ', text) # Remove extra spaces\n",
    "    text = re.sub(r'[ \\t]+$', '', text) # Remove trailing white spaces\n",
    "    tokens = []\n",
    "    for token in text.split():\n",
    "        if token not in stop_words:\n",
    "            token = english_stemmer.stem(token)\n",
    "            tokens.append(token)\n",
    "    return \" \".join(tokens)"
   ]
  },
  {
   "cell_type": "code",
   "execution_count": 10,
   "id": "6edf5fe3-23ae-4a20-a39c-aa353cb52ab4",
   "metadata": {},
   "outputs": [],
   "source": [
    "text = df[\"argument_EN\"]\n",
    "cleaned_text = [clean_text(text) for text in text]\n",
    "text = cleaned_text"
   ]
  },
  {
   "cell_type": "markdown",
   "id": "96613a59-5a8e-4669-8bb6-8236c6d87234",
   "metadata": {},
   "source": [
    "## **Load Model**"
   ]
  },
  {
   "cell_type": "code",
   "execution_count": 11,
   "id": "6b40c2a3-106f-4968-8d83-edc565011553",
   "metadata": {},
   "outputs": [
    {
     "name": "stderr",
     "output_type": "stream",
     "text": [
      "2022-12-19 08:36:32.370316: I tensorflow/core/platform/cpu_feature_guard.cc:193] This TensorFlow binary is optimized with oneAPI Deep Neural Network Library (oneDNN) to use the following CPU instructions in performance-critical operations:  AVX2 FMA\n",
      "To enable them in other operations, rebuild TensorFlow with the appropriate compiler flags.\n",
      "2022-12-19 08:36:32.853841: W tensorflow/compiler/xla/stream_executor/platform/default/dso_loader.cc:64] Could not load dynamic library 'libcudart.so.11.0'; dlerror: libcudart.so.11.0: cannot open shared object file: No such file or directory\n",
      "2022-12-19 08:36:32.853874: I tensorflow/compiler/xla/stream_executor/cuda/cudart_stub.cc:29] Ignore above cudart dlerror if you do not have a GPU set up on your machine.\n",
      "2022-12-19 08:36:34.326026: W tensorflow/compiler/xla/stream_executor/platform/default/dso_loader.cc:64] Could not load dynamic library 'libnvinfer.so.7'; dlerror: libnvinfer.so.7: cannot open shared object file: No such file or directory\n",
      "2022-12-19 08:36:34.326164: W tensorflow/compiler/xla/stream_executor/platform/default/dso_loader.cc:64] Could not load dynamic library 'libnvinfer_plugin.so.7'; dlerror: libnvinfer_plugin.so.7: cannot open shared object file: No such file or directory\n",
      "2022-12-19 08:36:34.326174: W tensorflow/compiler/tf2tensorrt/utils/py_utils.cc:38] TF-TRT Warning: Cannot dlopen some TensorRT libraries. If you would like to use Nvidia GPU with TensorRT, please make sure the missing libraries mentioned above are installed properly.\n"
     ]
    },
    {
     "name": "stdout",
     "output_type": "stream",
     "text": [
      "Keras model archive loading:\n",
      "File Name                                             Modified             Size\n",
      "variables.h5                                   2022-12-16 09:33:44       644152\n",
      "config.json                                    2022-12-16 09:33:44         3320\n",
      "metadata.json                                  2022-12-16 09:33:44           64\n",
      "Keras weights file (<HDF5 file \"variables.h5\" (mode r)>) loading:\n",
      "...layers\n",
      "......dense\n",
      ".........vars\n",
      "............0\n",
      "............1\n",
      "......dense_1\n",
      ".........vars\n",
      "............0\n",
      "............1\n",
      "......dense_2\n",
      ".........vars\n",
      "............0\n",
      "............1\n",
      "......dense_3\n",
      ".........vars\n",
      "............0\n",
      "............1\n",
      "......dropout\n",
      ".........vars\n",
      "......dropout_1\n",
      ".........vars\n",
      "......dropout_2\n",
      ".........vars\n",
      "...metrics\n",
      "......mean\n",
      ".........vars\n",
      "............0\n",
      "............1\n",
      "......mean_metric_wrapper\n",
      ".........vars\n",
      "............0\n",
      "............1\n",
      "...optimizer\n",
      "......vars\n",
      ".........0\n",
      ".........1\n",
      ".........2\n",
      ".........3\n",
      ".........4\n",
      ".........5\n",
      ".........6\n",
      ".........7\n",
      ".........8\n",
      "...vars\n",
      "Keras model archive loading:\n",
      "File Name                                             Modified             Size\n",
      "variables.h5                                   2022-12-16 09:33:44       644152\n"
     ]
    },
    {
     "name": "stderr",
     "output_type": "stream",
     "text": [
      "2022-12-19 08:36:35.877501: I tensorflow/compiler/xla/stream_executor/cuda/cuda_gpu_executor.cc:981] successful NUMA node read from SysFS had negative value (-1), but there must be at least one NUMA node, so returning NUMA node zero\n",
      "2022-12-19 08:36:35.877897: W tensorflow/compiler/xla/stream_executor/platform/default/dso_loader.cc:64] Could not load dynamic library 'libcudart.so.11.0'; dlerror: libcudart.so.11.0: cannot open shared object file: No such file or directory\n",
      "2022-12-19 08:36:35.878019: W tensorflow/compiler/xla/stream_executor/platform/default/dso_loader.cc:64] Could not load dynamic library 'libcublas.so.11'; dlerror: libcublas.so.11: cannot open shared object file: No such file or directory\n",
      "2022-12-19 08:36:35.878090: W tensorflow/compiler/xla/stream_executor/platform/default/dso_loader.cc:64] Could not load dynamic library 'libcublasLt.so.11'; dlerror: libcublasLt.so.11: cannot open shared object file: No such file or directory\n",
      "2022-12-19 08:36:35.878156: W tensorflow/compiler/xla/stream_executor/platform/default/dso_loader.cc:64] Could not load dynamic library 'libcufft.so.10'; dlerror: libcufft.so.10: cannot open shared object file: No such file or directory\n",
      "2022-12-19 08:36:35.878220: W tensorflow/compiler/xla/stream_executor/platform/default/dso_loader.cc:64] Could not load dynamic library 'libcurand.so.10'; dlerror: libcurand.so.10: cannot open shared object file: No such file or directory\n",
      "2022-12-19 08:36:35.878285: W tensorflow/compiler/xla/stream_executor/platform/default/dso_loader.cc:64] Could not load dynamic library 'libcusolver.so.11'; dlerror: libcusolver.so.11: cannot open shared object file: No such file or directory\n",
      "2022-12-19 08:36:35.878350: W tensorflow/compiler/xla/stream_executor/platform/default/dso_loader.cc:64] Could not load dynamic library 'libcusparse.so.11'; dlerror: libcusparse.so.11: cannot open shared object file: No such file or directory\n",
      "2022-12-19 08:36:35.878412: W tensorflow/compiler/xla/stream_executor/platform/default/dso_loader.cc:64] Could not load dynamic library 'libcudnn.so.8'; dlerror: libcudnn.so.8: cannot open shared object file: No such file or directory\n",
      "2022-12-19 08:36:35.878424: W tensorflow/core/common_runtime/gpu/gpu_device.cc:1934] Cannot dlopen some GPU libraries. Please make sure the missing libraries mentioned above are installed properly if you would like to use GPU. Follow the guide at https://www.tensorflow.org/install/gpu for how to download and setup the required libraries for your platform.\n",
      "Skipping registering GPU devices...\n",
      "2022-12-19 08:36:35.878772: I tensorflow/core/platform/cpu_feature_guard.cc:193] This TensorFlow binary is optimized with oneAPI Deep Neural Network Library (oneDNN) to use the following CPU instructions in performance-critical operations:  AVX2 FMA\n",
      "To enable them in other operations, rebuild TensorFlow with the appropriate compiler flags.\n"
     ]
    },
    {
     "name": "stdout",
     "output_type": "stream",
     "text": [
      "config.json                                    2022-12-16 09:33:44         3328\n",
      "metadata.json                                  2022-12-16 09:33:44           64\n",
      "Keras weights file (<HDF5 file \"variables.h5\" (mode r)>) loading:\n",
      "...layers\n",
      "......dense\n",
      ".........vars\n",
      "............0\n",
      "............1\n",
      "......dense_1\n",
      ".........vars\n",
      "............0\n",
      "............1\n",
      "......dense_2\n",
      ".........vars\n",
      "............0\n",
      "............1\n",
      "......dense_3\n",
      ".........vars\n",
      "............0\n",
      "............1\n",
      "......dropout\n",
      ".........vars\n",
      "......dropout_1\n",
      ".........vars\n",
      "......dropout_2\n",
      ".........vars\n",
      "...metrics\n",
      "......mean\n",
      ".........vars\n",
      "............0\n",
      "............1\n",
      "......mean_metric_wrapper\n",
      ".........vars\n",
      "............0\n",
      "............1\n",
      "...optimizer\n",
      "......vars\n",
      ".........0\n",
      ".........1\n",
      ".........2\n",
      ".........3\n",
      ".........4\n",
      ".........5\n",
      ".........6\n",
      ".........7\n",
      ".........8\n",
      "...vars\n",
      "Keras model archive loading:\n",
      "File Name                                             Modified             Size\n",
      "variables.h5                                   2022-12-16 09:33:44       644152\n",
      "config.json                                    2022-12-16 09:33:44         3330\n",
      "metadata.json                                  2022-12-16 09:33:44           64\n",
      "Keras weights file (<HDF5 file \"variables.h5\" (mode r)>) loading:\n",
      "...layers\n",
      "......dense\n",
      ".........vars\n",
      "............0\n",
      "............1\n",
      "......dense_1\n",
      ".........vars\n",
      "............0\n",
      "............1\n",
      "......dense_2\n",
      ".........vars\n",
      "............0\n",
      "............1\n",
      "......dense_3\n",
      ".........vars\n",
      "............0\n",
      "............1\n",
      "......dropout\n",
      ".........vars\n",
      "......dropout_1\n",
      ".........vars\n",
      "......dropout_2\n",
      ".........vars\n",
      "...metrics\n",
      "......mean\n",
      ".........vars\n",
      "............0\n",
      "............1\n",
      "......mean_metric_wrapper\n",
      ".........vars\n",
      "............0\n",
      "............1\n",
      "...optimizer\n",
      "......vars\n",
      ".........0\n",
      ".........1\n",
      ".........2\n",
      ".........3\n",
      ".........4\n",
      ".........5\n",
      ".........6\n",
      ".........7\n",
      ".........8\n",
      "...vars\n"
     ]
    }
   ],
   "source": [
    "model = CustomModel()"
   ]
  },
  {
   "cell_type": "markdown",
   "id": "4ed42b2e-22cc-4c95-9387-045ffe4b6d9c",
   "metadata": {},
   "source": [
    "## **Get Prediction**"
   ]
  },
  {
   "cell_type": "code",
   "execution_count": 12,
   "id": "6313403c-1a96-4aec-98dc-96e01babf199",
   "metadata": {},
   "outputs": [],
   "source": [
    "# Load label encoder\n",
    "label_encoder = pickle.load(open(\"encoders/label_encoder.pkl\", \"rb\"))"
   ]
  },
  {
   "cell_type": "code",
   "execution_count": 13,
   "id": "7d8a0e73",
   "metadata": {},
   "outputs": [],
   "source": [
    "# Load vectorizer\n",
    "count_vectorizer = pickle.load(open(\"vectorizers/count_vectorizer.pkl\", \"rb\"))"
   ]
  },
  {
   "cell_type": "code",
   "execution_count": 14,
   "id": "47f4cfe4",
   "metadata": {},
   "outputs": [],
   "source": [
    "vector = count_vectorizer.transform(text).toarray()\n",
    "# vector = count_vectorizer.transform(text)"
   ]
  },
  {
   "cell_type": "code",
   "execution_count": 15,
   "id": "1356c4f7",
   "metadata": {},
   "outputs": [
    {
     "name": "stderr",
     "output_type": "stream",
     "text": [
      "2022-12-19 08:36:37.113034: W tensorflow/tsl/framework/cpu_allocator_impl.cc:82] Allocation of 488195976 exceeds 10% of free system memory.\n",
      "2022-12-19 08:36:39.888836: W tensorflow/tsl/framework/cpu_allocator_impl.cc:82] Allocation of 488195976 exceeds 10% of free system memory.\n",
      "2022-12-19 08:36:42.274647: W tensorflow/tsl/framework/cpu_allocator_impl.cc:82] Allocation of 488195976 exceeds 10% of free system memory.\n"
     ]
    }
   ],
   "source": [
    "pred = model.predict(vector)"
   ]
  },
  {
   "cell_type": "code",
   "execution_count": 16,
   "id": "10f174c1",
   "metadata": {},
   "outputs": [],
   "source": [
    "pred = label_encoder.inverse_transform(pred)\n",
    "\n",
    "for idx, x in enumerate(pred):\n",
    "    pred[idx] = x[x.find('(')+1:x.find(')')]"
   ]
  },
  {
   "cell_type": "markdown",
   "id": "9747a5eb",
   "metadata": {},
   "source": [
    "## **Evaluate Prediction**"
   ]
  },
  {
   "cell_type": "code",
   "execution_count": 17,
   "id": "a77dff1e",
   "metadata": {},
   "outputs": [
    {
     "name": "stderr",
     "output_type": "stream",
     "text": [
      "/home/sri/Documents/UTS Research/explainable-ai-in-learning-analytics/generalisability/venv/lib/python3.10/site-packages/sklearn/metrics/_classification.py:1344: UndefinedMetricWarning: Precision and F-score are ill-defined and being set to 0.0 in labels with no predicted samples. Use `zero_division` parameter to control this behavior.\n",
      "  _warn_prf(average, modifier, msg_start, len(result))\n"
     ]
    },
    {
     "name": "stdout",
     "output_type": "stream",
     "text": [
      "              precision    recall  f1-score   support\n",
      "\n",
      "     Average       0.13      0.02      0.04      5942\n",
      "        High       0.00      0.00      0.00     23700\n",
      "         Low       0.03      0.99      0.06       855\n",
      "\n",
      "    accuracy                           0.03     30497\n",
      "   macro avg       0.05      0.34      0.03     30497\n",
      "weighted avg       0.03      0.03      0.01     30497\n",
      "\n"
     ]
    },
    {
     "name": "stderr",
     "output_type": "stream",
     "text": [
      "/home/sri/Documents/UTS Research/explainable-ai-in-learning-analytics/generalisability/venv/lib/python3.10/site-packages/sklearn/metrics/_classification.py:1344: UndefinedMetricWarning: Precision and F-score are ill-defined and being set to 0.0 in labels with no predicted samples. Use `zero_division` parameter to control this behavior.\n",
      "  _warn_prf(average, modifier, msg_start, len(result))\n",
      "/home/sri/Documents/UTS Research/explainable-ai-in-learning-analytics/generalisability/venv/lib/python3.10/site-packages/sklearn/metrics/_classification.py:1344: UndefinedMetricWarning: Precision and F-score are ill-defined and being set to 0.0 in labels with no predicted samples. Use `zero_division` parameter to control this behavior.\n",
      "  _warn_prf(average, modifier, msg_start, len(result))\n"
     ]
    }
   ],
   "source": [
    "print(classification_report(df[\"quality\"], pred))"
   ]
  },
  {
   "cell_type": "code",
   "execution_count": null,
   "id": "1f114d50",
   "metadata": {},
   "outputs": [],
   "source": []
  }
 ],
 "metadata": {
  "kernelspec": {
   "display_name": "venv",
   "language": "python",
   "name": "venv"
  },
  "language_info": {
   "codemirror_mode": {
    "name": "ipython",
    "version": 3
   },
   "file_extension": ".py",
   "mimetype": "text/x-python",
   "name": "python",
   "nbconvert_exporter": "python",
   "pygments_lexer": "ipython3",
   "version": "3.10.8"
  }
 },
 "nbformat": 4,
 "nbformat_minor": 5
}
